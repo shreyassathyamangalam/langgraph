{
 "cells": [
  {
   "cell_type": "code",
   "execution_count": 11,
   "id": "2c36fd2c",
   "metadata": {},
   "outputs": [],
   "source": [
    "from langgraph.graph import StateGraph, START, END\n",
    "from langgraph.graph.message import add_messages\n",
    "from langgraph.checkpoint.memory import MemorySaver\n",
    "from langchain_core.messages import HumanMessage, BaseMessage\n",
    "from langchain_openai import ChatOpenAI\n",
    "from typing import TypedDict, Annotated\n",
    "from dotenv import load_dotenv"
   ]
  },
  {
   "cell_type": "code",
   "execution_count": 2,
   "id": "133e8bba",
   "metadata": {},
   "outputs": [
    {
     "data": {
      "text/plain": [
       "True"
      ]
     },
     "execution_count": 2,
     "metadata": {},
     "output_type": "execute_result"
    }
   ],
   "source": [
    "load_dotenv()"
   ]
  },
  {
   "cell_type": "code",
   "execution_count": 3,
   "id": "8a1ce0d0",
   "metadata": {},
   "outputs": [],
   "source": [
    "# Define the state of the chatbot\n",
    "\n",
    "class ChatState(TypedDict):\n",
    "    messages: Annotated[list[BaseMessage], add_messages]"
   ]
  },
  {
   "cell_type": "code",
   "execution_count": 4,
   "id": "1187969e",
   "metadata": {},
   "outputs": [],
   "source": [
    "# Defin the LLM for the chatbot\n",
    "llm = ChatOpenAI(\n",
    "    model=\"gpt-4o-mini\",\n",
    "    temperature=0.0\n",
    ")"
   ]
  },
  {
   "cell_type": "code",
   "execution_count": 5,
   "id": "3df818fa",
   "metadata": {},
   "outputs": [],
   "source": [
    "# Define the chat_node function\n",
    "\n",
    "def chat_node(state: ChatState):\n",
    "    \"\"\"A simple chat node that interacts with the user.\"\"\"\n",
    "    # Take the user query from the state\n",
    "    messages = state['messages']\n",
    "    \n",
    "    # Send the user query to the LLM\n",
    "    response = llm.invoke(messages)\n",
    "    \n",
    "    # Add the response to the state\n",
    "    return {'messages': [response]}"
   ]
  },
  {
   "cell_type": "code",
   "execution_count": 12,
   "id": "fc2af376",
   "metadata": {},
   "outputs": [],
   "source": [
    "# Define checkpointer for the graph\n",
    "checkpointer = MemorySaver()\n",
    "\n",
    "# Define the graph for the chatbot\n",
    "\n",
    "graph = StateGraph(ChatState)\n",
    "\n",
    "# add nodes\n",
    "graph.add_node('chat_node', chat_node)\n",
    "\n",
    "# add edges\n",
    "graph.add_edge(START, 'chat_node')\n",
    "graph.add_edge('chat_node', END)\n",
    "\n",
    "# Compile the graph\n",
    "chatbot = graph.compile(checkpointer=checkpointer)"
   ]
  },
  {
   "cell_type": "code",
   "execution_count": 13,
   "id": "10cca7fc",
   "metadata": {},
   "outputs": [
    {
     "data": {
      "image/png": "[encoded data removed]",
      "text/plain": [
       "<langgraph.graph.state.CompiledStateGraph object at 0x11c7010d0>"
      ]
     },
     "execution_count": 13,
     "metadata": {},
     "output_type": "execute_result"
    }
   ],
   "source": [
    "chatbot"
   ]
  },
  {
   "cell_type": "code",
   "execution_count": 8,
   "id": "fef5305b",
   "metadata": {},
   "outputs": [
    {
     "name": "stdout",
     "output_type": "stream",
     "text": [
      "{'messages': [HumanMessage(content='What is the capital of India', additional_kwargs={}, response_metadata={}, id='77a9dc6c-0974-4311-b1dd-1df6899158b6'), AIMessage(content='The capital of India is New Delhi.', additional_kwargs={'refusal': None}, response_metadata={'token_usage': {'completion_tokens': 8, 'prompt_tokens': 13, 'total_tokens': 21, 'completion_tokens_details': {'accepted_prediction_tokens': 0, 'audio_tokens': 0, 'reasoning_tokens': 0, 'rejected_prediction_tokens': 0}, 'prompt_tokens_details': {'audio_tokens': 0, 'cached_tokens': 0}}, 'model_name': 'gpt-4o-mini-2024-07-18', 'system_fingerprint': 'fp_34a54ae93c', 'id': 'chatcmpl-ByLIEHPxNzbEBWj7BiLpUzKiWMSgm', 'service_tier': 'default', 'finish_reason': 'stop', 'logprobs': None}, id='run--6b0f512b-8ffe-4b34-a4b0-d995d8f0fafc-0', usage_metadata={'input_tokens': 13, 'output_tokens': 8, 'total_tokens': 21, 'input_token_details': {'audio': 0, 'cache_read': 0}, 'output_token_details': {'audio': 0, 'reasoning': 0}})]}\n"
     ]
    }
   ],
   "source": [
    "# Define the initial state of the chatbot\n",
    "initial_state = {\n",
    "    'messages': [HumanMessage(content=\"What is the capital of India\")]\n",
    "}\n",
    "\n",
    "# run the chatbot with the initial state\n",
    "response = chatbot.invoke(initial_state)\n",
    "\n",
    "# Print the response\n",
    "print(response)"
   ]
  },
  {
   "cell_type": "code",
   "execution_count": 9,
   "id": "58d106a9",
   "metadata": {},
   "outputs": [
    {
     "data": {
      "text/plain": [
       "'The capital of India is New Delhi.'"
      ]
     },
     "execution_count": 9,
     "metadata": {},
     "output_type": "execute_result"
    }
   ],
   "source": [
    "# extract the content of the AI Message in the response\n",
    "response['messages'][-1].content"
   ]
  },
  {
   "cell_type": "code",
   "execution_count": 14,
   "id": "d5f28cb5",
   "metadata": {},
   "outputs": [
    {
     "name": "stdout",
     "output_type": "stream",
     "text": [
      "User message: Hi, my name is Shreyas\n",
      "Chatbot response: Hi Shreyas! How can I assist you today?\n",
      "User message: What is my name?\n",
      "Chatbot response: Your name is Shreyas. How can I help you today?\n",
      "User message: exit\n"
     ]
    }
   ],
   "source": [
    "# Loop to keep the chatbot running\n",
    "\n",
    "thread_id = 1\n",
    "\n",
    "while True:\n",
    "    user_message = input('Type your message: ')\n",
    "    \n",
    "    print(\"User message:\", user_message)\n",
    "    \n",
    "    if user_message.strip().lower() in ['exit', 'quit', 'stop', 'bye']:\n",
    "        break\n",
    "    \n",
    "    config = {'configurable': {'thread_id': thread_id}}\n",
    "\n",
    "    # Invoke the chatbot with the user message\n",
    "    response = chatbot.invoke({'messages': [HumanMessage(content=user_message)]}, config=config)\n",
    "\n",
    "    # Print the response\n",
    "    print(\"Chatbot response:\", response['messages'][-1].content)"
   ]
  },
  {
   "cell_type": "code",
   "execution_count": 15,
   "id": "c40e97e6",
   "metadata": {},
   "outputs": [
    {
     "data": {
      "text/plain": [
       "StateSnapshot(values={'messages': [HumanMessage(content='Hi, my name is Shreyas', additional_kwargs={}, response_metadata={}, id='0146e85a-dd2b-4f47-8a71-47cdc7d577a5'), AIMessage(content='Hi Shreyas! How can I assist you today?', additional_kwargs={'refusal': None}, response_metadata={'token_usage': {'completion_tokens': 12, 'prompt_tokens': 15, 'total_tokens': 27, 'completion_tokens_details': {'accepted_prediction_tokens': 0, 'audio_tokens': 0, 'reasoning_tokens': 0, 'rejected_prediction_tokens': 0}, 'prompt_tokens_details': {'audio_tokens': 0, 'cached_tokens': 0}}, 'model_name': 'gpt-4o-mini-2024-07-18', 'system_fingerprint': 'fp_34a54ae93c', 'id': 'chatcmpl-ByLWFD60J45iCip37yXwEkohdwJmZ', 'service_tier': 'default', 'finish_reason': 'stop', 'logprobs': None}, id='run--3399b524-3a6f-44f7-b35b-5d93f4241f7b-0', usage_metadata={'input_tokens': 15, 'output_tokens': 12, 'total_tokens': 27, 'input_token_details': {'audio': 0, 'cache_read': 0}, 'output_token_details': {'audio': 0, 'reasoning': 0}}), HumanMessage(content='What is my name?', additional_kwargs={}, response_metadata={}, id='bee22c5e-37c8-49b8-b924-42deebe1b3b4'), AIMessage(content='Your name is Shreyas. How can I help you today?', additional_kwargs={'refusal': None}, response_metadata={'token_usage': {'completion_tokens': 14, 'prompt_tokens': 40, 'total_tokens': 54, 'completion_tokens_details': {'accepted_prediction_tokens': 0, 'audio_tokens': 0, 'reasoning_tokens': 0, 'rejected_prediction_tokens': 0}, 'prompt_tokens_details': {'audio_tokens': 0, 'cached_tokens': 0}}, 'model_name': 'gpt-4o-mini-2024-07-18', 'system_fingerprint': 'fp_34a54ae93c', 'id': 'chatcmpl-ByLWNP9CJKPsuwEQ48WIrlSdcJxGb', 'service_tier': 'default', 'finish_reason': 'stop', 'logprobs': None}, id='run--8a967451-ebb9-487d-a818-6df960d0b2f0-0', usage_metadata={'input_tokens': 40, 'output_tokens': 14, 'total_tokens': 54, 'input_token_details': {'audio': 0, 'cache_read': 0}, 'output_token_details': {'audio': 0, 'reasoning': 0}})]}, next=(), config={'configurable': {'thread_id': '1', 'checkpoint_ns': '', 'checkpoint_id': '1f06bd48-c3f0-6e58-8004-0fc49590686e'}}, metadata={'source': 'loop', 'step': 4, 'parents': {}, 'thread_id': 1}, created_at='2025-07-28T17:01:47.866652+00:00', parent_config={'configurable': {'thread_id': '1', 'checkpoint_ns': '', 'checkpoint_id': '1f06bd48-ba7e-6370-8003-abca08bf2cc5'}}, tasks=(), interrupts=())"
      ]
     },
     "execution_count": 15,
     "metadata": {},
     "output_type": "execute_result"
    }
   ],
   "source": [
    "chatbot.get_state(config=config)"
   ]
  },
  {
   "cell_type": "code",
   "execution_count": null,
   "id": "ddb435b5",
   "metadata": {},
   "outputs": [],
   "source": []
  }
 ],
 "metadata": {
  "kernelspec": {
   "display_name": "langgraph-tutorial",
   "language": "python",
   "name": "python3"
  },
  "language_info": {
   "codemirror_mode": {
    "name": "ipython",
    "version": 3
   },
   "file_extension": ".py",
   "mimetype": "text/x-python",
   "name": "python",
   "nbconvert_exporter": "python",
   "pygments_lexer": "ipython3",
   "version": "3.12.10"
  }
 },
 "nbformat": 4,
 "nbformat_minor": 5
}
