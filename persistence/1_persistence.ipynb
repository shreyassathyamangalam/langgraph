{
 "cells": [
  {
   "cell_type": "code",
   "execution_count": 1,
   "id": "c2ad8745",
   "metadata": {},
   "outputs": [],
   "source": [
    "from langgraph.graph import StateGraph, START, END\n",
    "from langgraph.checkpoint.memory import InMemorySaver\n",
    "from langchain_openai import ChatOpenAI\n",
    "from typing import TypedDict\n",
    "from dotenv import load_dotenv"
   ]
  },
  {
   "cell_type": "code",
   "execution_count": 2,
   "id": "8ecd77fa",
   "metadata": {},
   "outputs": [
    {
     "data": {
      "text/plain": [
       "True"
      ]
     },
     "execution_count": 2,
     "metadata": {},
     "output_type": "execute_result"
    }
   ],
   "source": [
    "load_dotenv()"
   ]
  },
  {
   "cell_type": "code",
   "execution_count": 3,
   "id": "6b08b9e7",
   "metadata": {},
   "outputs": [],
   "source": [
    "# define llm object\n",
    "llm = ChatOpenAI(model=\"gpt-4o-mini\", temperature=0.0, max_retries=3)"
   ]
  },
  {
   "cell_type": "code",
   "execution_count": 4,
   "id": "244f621e",
   "metadata": {},
   "outputs": [],
   "source": [
    "# Define a class for the state data\n",
    "class JokeState(TypedDict):\n",
    "    \n",
    "    topic: str\n",
    "    joke: str\n",
    "    explanation: str"
   ]
  },
  {
   "cell_type": "code",
   "execution_count": 5,
   "id": "a63ddf84",
   "metadata": {},
   "outputs": [],
   "source": [
    "# Define a finction to generate a joke\n",
    "def generate_joke(state: JokeState):\n",
    "    \"\"\"Generate a joke based on the topic in the state.\"\"\"\n",
    "    topic = state['topic']\n",
    "    prompt = f\"Generate a joke about {topic}.\"\n",
    "    response = llm.invoke(prompt).content\n",
    "    \n",
    "    return {'joke': response}    "
   ]
  },
  {
   "cell_type": "code",
   "execution_count": 6,
   "id": "6a676efe",
   "metadata": {},
   "outputs": [],
   "source": [
    "# Define a function to generate an explanation\n",
    "def generate_explanation(state: JokeState):\n",
    "    \"\"\"Generate an explanation for the joke in the state.\"\"\"\n",
    "    joke = state['joke']\n",
    "    prompt = f\"Explain this joke : {joke}.\"\n",
    "    response = llm.invoke(prompt).content\n",
    "    \n",
    "    return {'explanation': response}"
   ]
  },
  {
   "cell_type": "code",
   "execution_count": 7,
   "id": "6102d297",
   "metadata": {},
   "outputs": [],
   "source": [
    "# Build the state graph\n",
    "graph = StateGraph(JokeState)\n",
    "\n",
    "# Add nodes to the graph\n",
    "graph.add_node('generate_joke', generate_joke)\n",
    "graph.add_node('generate_explanation', generate_explanation)\n",
    "\n",
    "# Add edges to the graph\n",
    "graph.add_edge(START, 'generate_joke')\n",
    "graph.add_edge('generate_joke', 'generate_explanation')\n",
    "graph.add_edge('generate_explanation', END)\n",
    "\n",
    "# Create a checkpointer to persist the state\n",
    "checkpointer = InMemorySaver()\n",
    "\n",
    "# Compile the graph with the checkpointer\n",
    "workflow = graph.compile(checkpointer=checkpointer)"
   ]
  },
  {
   "cell_type": "code",
   "execution_count": 8,
   "id": "b0d46511",
   "metadata": {},
   "outputs": [
    {
     "data": {
      "image/png": "[encoded data removed]",
      "text/plain": [
       "<langgraph.graph.state.CompiledStateGraph object at 0x117d6e690>"
      ]
     },
     "execution_count": 8,
     "metadata": {},
     "output_type": "execute_result"
    }
   ],
   "source": [
    "workflow"
   ]
  },
  {
   "cell_type": "code",
   "execution_count": 9,
   "id": "c87b4f75",
   "metadata": {},
   "outputs": [
    {
     "data": {
      "text/plain": [
       "{'topic': 'pizza',\n",
       " 'joke': \"Why did the pizza maker go broke?\\n\\nBecause he just couldn't make enough dough! 🍕\",\n",
       " 'explanation': 'This joke plays on a double meaning of the word \"dough.\" \\n\\n1. **Literal Meaning**: In the context of pizza making, \"dough\" refers to the mixture of flour, water, and other ingredients that is used to make the crust of the pizza. A pizza maker needs to make a lot of dough to create pizzas.\\n\\n2. **Figurative Meaning**: \"Dough\" is also a slang term for money. When someone says they \"can\\'t make enough dough,\" it means they aren\\'t earning enough money.\\n\\nSo, the humor comes from the pun on \"dough\"—the pizza maker is struggling both to produce enough pizza dough and to earn enough money, leading to the punchline that he went broke. The combination of these two meanings creates a light-hearted and clever play on words.'}"
      ]
     },
     "execution_count": 9,
     "metadata": {},
     "output_type": "execute_result"
    }
   ],
   "source": [
    "config1 = {'configurable': {'thread_id': \"1\"}}\n",
    "initial_state = {\n",
    "    \"topic\": \"pizza\"\n",
    "    }\n",
    "workflow.invoke(initial_state, config=config1)"
   ]
  },
  {
   "cell_type": "code",
   "execution_count": 10,
   "id": "f7b498fd",
   "metadata": {},
   "outputs": [
    {
     "data": {
      "text/plain": [
       "StateSnapshot(values={'topic': 'pizza', 'joke': \"Why did the pizza maker go broke?\\n\\nBecause he just couldn't make enough dough! 🍕\", 'explanation': 'This joke plays on a double meaning of the word \"dough.\" \\n\\n1. **Literal Meaning**: In the context of pizza making, \"dough\" refers to the mixture of flour, water, and other ingredients that is used to make the crust of the pizza. A pizza maker needs to make a lot of dough to create pizzas.\\n\\n2. **Figurative Meaning**: \"Dough\" is also a slang term for money. When someone says they \"can\\'t make enough dough,\" it means they aren\\'t earning enough money.\\n\\nSo, the humor comes from the pun on \"dough\"—the pizza maker is struggling both to produce enough pizza dough and to earn enough money, leading to the punchline that he went broke. The combination of these two meanings creates a light-hearted and clever play on words.'}, next=(), config={'configurable': {'thread_id': '1', 'checkpoint_ns': '', 'checkpoint_id': '1f071c5b-ae82-686a-8002-d87be81576fe'}}, metadata={'source': 'loop', 'step': 2, 'parents': {}, 'thread_id': '1'}, created_at='2025-08-05T06:30:50.675796+00:00', parent_config={'configurable': {'thread_id': '1', 'checkpoint_ns': '', 'checkpoint_id': '1f071c5b-8a40-677c-8001-0addffac502c'}}, tasks=(), interrupts=())"
      ]
     },
     "execution_count": 10,
     "metadata": {},
     "output_type": "execute_result"
    }
   ],
   "source": [
    "# Get the final values of the state\n",
    "workflow.get_state(config=config1)"
   ]
  },
  {
   "cell_type": "code",
   "execution_count": 11,
   "id": "3640a05b",
   "metadata": {},
   "outputs": [
    {
     "data": {
      "text/plain": [
       "[StateSnapshot(values={'topic': 'pizza', 'joke': \"Why did the pizza maker go broke?\\n\\nBecause he just couldn't make enough dough! 🍕\", 'explanation': 'This joke plays on a double meaning of the word \"dough.\" \\n\\n1. **Literal Meaning**: In the context of pizza making, \"dough\" refers to the mixture of flour, water, and other ingredients that is used to make the crust of the pizza. A pizza maker needs to make a lot of dough to create pizzas.\\n\\n2. **Figurative Meaning**: \"Dough\" is also a slang term for money. When someone says they \"can\\'t make enough dough,\" it means they aren\\'t earning enough money.\\n\\nSo, the humor comes from the pun on \"dough\"—the pizza maker is struggling both to produce enough pizza dough and to earn enough money, leading to the punchline that he went broke. The combination of these two meanings creates a light-hearted and clever play on words.'}, next=(), config={'configurable': {'thread_id': '1', 'checkpoint_ns': '', 'checkpoint_id': '1f071c5b-ae82-686a-8002-d87be81576fe'}}, metadata={'source': 'loop', 'step': 2, 'parents': {}, 'thread_id': '1'}, created_at='2025-08-05T06:30:50.675796+00:00', parent_config={'configurable': {'thread_id': '1', 'checkpoint_ns': '', 'checkpoint_id': '1f071c5b-8a40-677c-8001-0addffac502c'}}, tasks=(), interrupts=()),\n",
       " StateSnapshot(values={'topic': 'pizza', 'joke': \"Why did the pizza maker go broke?\\n\\nBecause he just couldn't make enough dough! 🍕\"}, next=('generate_explanation',), config={'configurable': {'thread_id': '1', 'checkpoint_ns': '', 'checkpoint_id': '1f071c5b-8a40-677c-8001-0addffac502c'}}, metadata={'source': 'loop', 'step': 1, 'parents': {}, 'thread_id': '1'}, created_at='2025-08-05T06:30:46.873880+00:00', parent_config={'configurable': {'thread_id': '1', 'checkpoint_ns': '', 'checkpoint_id': '1f071c5b-76ad-61f6-8000-06a51f3c5884'}}, tasks=(PregelTask(id='a26db1f6-e3fd-2026-cf77-728904a526e6', name='generate_explanation', path=('__pregel_pull', 'generate_explanation'), error=None, interrupts=(), state=None, result={'explanation': 'This joke plays on a double meaning of the word \"dough.\" \\n\\n1. **Literal Meaning**: In the context of pizza making, \"dough\" refers to the mixture of flour, water, and other ingredients that is used to make the crust of the pizza. A pizza maker needs to make a lot of dough to create pizzas.\\n\\n2. **Figurative Meaning**: \"Dough\" is also a slang term for money. When someone says they \"can\\'t make enough dough,\" it means they aren\\'t earning enough money.\\n\\nSo, the humor comes from the pun on \"dough\"—the pizza maker is struggling both to produce enough pizza dough and to earn enough money, leading to the punchline that he went broke. The combination of these two meanings creates a light-hearted and clever play on words.'}),), interrupts=()),\n",
       " StateSnapshot(values={'topic': 'pizza'}, next=('generate_joke',), config={'configurable': {'thread_id': '1', 'checkpoint_ns': '', 'checkpoint_id': '1f071c5b-76ad-61f6-8000-06a51f3c5884'}}, metadata={'source': 'loop', 'step': 0, 'parents': {}, 'thread_id': '1'}, created_at='2025-08-05T06:30:44.821234+00:00', parent_config={'configurable': {'thread_id': '1', 'checkpoint_ns': '', 'checkpoint_id': '1f071c5b-76aa-6686-bfff-452b445c0e6b'}}, tasks=(PregelTask(id='9d576757-7d9d-e3da-a0a7-1aaad100ca9f', name='generate_joke', path=('__pregel_pull', 'generate_joke'), error=None, interrupts=(), state=None, result={'joke': \"Why did the pizza maker go broke?\\n\\nBecause he just couldn't make enough dough! 🍕\"}),), interrupts=()),\n",
       " StateSnapshot(values={}, next=('__start__',), config={'configurable': {'thread_id': '1', 'checkpoint_ns': '', 'checkpoint_id': '1f071c5b-76aa-6686-bfff-452b445c0e6b'}}, metadata={'source': 'input', 'step': -1, 'parents': {}, 'thread_id': '1'}, created_at='2025-08-05T06:30:44.820120+00:00', parent_config=None, tasks=(PregelTask(id='9e37cf91-6a05-6dbb-c640-c79f90ebac48', name='__start__', path=('__pregel_pull', '__start__'), error=None, interrupts=(), state=None, result={'topic': 'pizza'}),), interrupts=())]"
      ]
     },
     "execution_count": 11,
     "metadata": {},
     "output_type": "execute_result"
    }
   ],
   "source": [
    "# Get all the state values in the workflow\n",
    "list(workflow.get_state_history(config=config1))"
   ]
  },
  {
   "cell_type": "code",
   "execution_count": 12,
   "id": "64cd2042",
   "metadata": {},
   "outputs": [
    {
     "data": {
      "text/plain": [
       "{'topic': 'pasta',\n",
       " 'joke': 'Why did the pasta break up with the bread?\\n\\nBecause it kneaded space!',\n",
       " 'explanation': 'This joke plays on a pun involving the words \"kneaded\" and \"needed.\" \\n\\nIn baking, \"kneading\" is the process of working dough to develop gluten, which gives bread its structure. The joke anthropomorphizes pasta and bread, suggesting that the pasta is in a relationship with the bread. When the pasta says it \"kneaded space,\" it sounds like it needs some distance or time alone, which is a common reason for breakups in relationships. \\n\\nThe humor comes from the clever wordplay and the unexpected twist of using baking terminology to describe a romantic situation.'}"
      ]
     },
     "execution_count": 12,
     "metadata": {},
     "output_type": "execute_result"
    }
   ],
   "source": [
    "config2 = {'configurable': {'thread_id': '2'}}\n",
    "initial_state = {\n",
    "    \"topic\": \"pasta\"\n",
    "}\n",
    "\n",
    "workflow.invoke(initial_state, config=config2)"
   ]
  },
  {
   "cell_type": "code",
   "execution_count": 13,
   "id": "deea02bc",
   "metadata": {},
   "outputs": [
    {
     "data": {
      "text/plain": [
       "StateSnapshot(values={'topic': 'pasta', 'joke': 'Why did the pasta break up with the bread?\\n\\nBecause it kneaded space!', 'explanation': 'This joke plays on a pun involving the words \"kneaded\" and \"needed.\" \\n\\nIn baking, \"kneading\" is the process of working dough to develop gluten, which gives bread its structure. The joke anthropomorphizes pasta and bread, suggesting that the pasta is in a relationship with the bread. When the pasta says it \"kneaded space,\" it sounds like it needs some distance or time alone, which is a common reason for breakups in relationships. \\n\\nThe humor comes from the clever wordplay and the unexpected twist of using baking terminology to describe a romantic situation.'}, next=(), config={'configurable': {'thread_id': '2', 'checkpoint_ns': '', 'checkpoint_id': '1f071c5b-d24f-664e-8002-3e0962c1dd14'}}, metadata={'source': 'loop', 'step': 2, 'parents': {}, 'thread_id': '2'}, created_at='2025-08-05T06:30:54.429722+00:00', parent_config={'configurable': {'thread_id': '2', 'checkpoint_ns': '', 'checkpoint_id': '1f071c5b-b9ef-682e-8001-608d5abf4814'}}, tasks=(), interrupts=())"
      ]
     },
     "execution_count": 13,
     "metadata": {},
     "output_type": "execute_result"
    }
   ],
   "source": [
    "workflow.get_state(config=config2)"
   ]
  },
  {
   "cell_type": "code",
   "execution_count": 14,
   "id": "9d9efd19",
   "metadata": {},
   "outputs": [
    {
     "data": {
      "text/plain": [
       "[StateSnapshot(values={'topic': 'pasta', 'joke': 'Why did the pasta break up with the bread?\\n\\nBecause it kneaded space!', 'explanation': 'This joke plays on a pun involving the words \"kneaded\" and \"needed.\" \\n\\nIn baking, \"kneading\" is the process of working dough to develop gluten, which gives bread its structure. The joke anthropomorphizes pasta and bread, suggesting that the pasta is in a relationship with the bread. When the pasta says it \"kneaded space,\" it sounds like it needs some distance or time alone, which is a common reason for breakups in relationships. \\n\\nThe humor comes from the clever wordplay and the unexpected twist of using baking terminology to describe a romantic situation.'}, next=(), config={'configurable': {'thread_id': '2', 'checkpoint_ns': '', 'checkpoint_id': '1f071c5b-d24f-664e-8002-3e0962c1dd14'}}, metadata={'source': 'loop', 'step': 2, 'parents': {}, 'thread_id': '2'}, created_at='2025-08-05T06:30:54.429722+00:00', parent_config={'configurable': {'thread_id': '2', 'checkpoint_ns': '', 'checkpoint_id': '1f071c5b-b9ef-682e-8001-608d5abf4814'}}, tasks=(), interrupts=()),\n",
       " StateSnapshot(values={'topic': 'pasta', 'joke': 'Why did the pasta break up with the bread?\\n\\nBecause it kneaded space!'}, next=('generate_explanation',), config={'configurable': {'thread_id': '2', 'checkpoint_ns': '', 'checkpoint_id': '1f071c5b-b9ef-682e-8001-608d5abf4814'}}, metadata={'source': 'loop', 'step': 1, 'parents': {}, 'thread_id': '2'}, created_at='2025-08-05T06:30:51.873881+00:00', parent_config={'configurable': {'thread_id': '2', 'checkpoint_ns': '', 'checkpoint_id': '1f071c5b-aedc-6f4a-8000-233ac6bd4d86'}}, tasks=(PregelTask(id='5f834c50-a732-de8c-1593-07298cc5ad64', name='generate_explanation', path=('__pregel_pull', 'generate_explanation'), error=None, interrupts=(), state=None, result={'explanation': 'This joke plays on a pun involving the words \"kneaded\" and \"needed.\" \\n\\nIn baking, \"kneading\" is the process of working dough to develop gluten, which gives bread its structure. The joke anthropomorphizes pasta and bread, suggesting that the pasta is in a relationship with the bread. When the pasta says it \"kneaded space,\" it sounds like it needs some distance or time alone, which is a common reason for breakups in relationships. \\n\\nThe humor comes from the clever wordplay and the unexpected twist of using baking terminology to describe a romantic situation.'}),), interrupts=()),\n",
       " StateSnapshot(values={'topic': 'pasta'}, next=('generate_joke',), config={'configurable': {'thread_id': '2', 'checkpoint_ns': '', 'checkpoint_id': '1f071c5b-aedc-6f4a-8000-233ac6bd4d86'}}, metadata={'source': 'loop', 'step': 0, 'parents': {}, 'thread_id': '2'}, created_at='2025-08-05T06:30:50.712856+00:00', parent_config={'configurable': {'thread_id': '2', 'checkpoint_ns': '', 'checkpoint_id': '1f071c5b-aed9-6ee4-bfff-2ea567f408c2'}}, tasks=(PregelTask(id='def64865-07d5-6b65-cab4-677e94d210cb', name='generate_joke', path=('__pregel_pull', 'generate_joke'), error=None, interrupts=(), state=None, result={'joke': 'Why did the pasta break up with the bread?\\n\\nBecause it kneaded space!'}),), interrupts=()),\n",
       " StateSnapshot(values={}, next=('__start__',), config={'configurable': {'thread_id': '2', 'checkpoint_ns': '', 'checkpoint_id': '1f071c5b-aed9-6ee4-bfff-2ea567f408c2'}}, metadata={'source': 'input', 'step': -1, 'parents': {}, 'thread_id': '2'}, created_at='2025-08-05T06:30:50.711502+00:00', parent_config=None, tasks=(PregelTask(id='8a06d737-3fa4-dfa8-ded0-2cb8ab506337', name='__start__', path=('__pregel_pull', '__start__'), error=None, interrupts=(), state=None, result={'topic': 'pasta'}),), interrupts=())]"
      ]
     },
     "execution_count": 14,
     "metadata": {},
     "output_type": "execute_result"
    }
   ],
   "source": [
    "list(workflow.get_state_history(config=config2))"
   ]
  },
  {
   "cell_type": "markdown",
   "id": "b8d01acb",
   "metadata": {},
   "source": [
    "## Time Travel"
   ]
  },
  {
   "cell_type": "code",
   "execution_count": 15,
   "id": "a141e9e7",
   "metadata": {},
   "outputs": [
    {
     "data": {
      "text/plain": [
       "StateSnapshot(values={'topic': 'pizza'}, next=('generate_joke',), config={'configurable': {'thread_id': '1', 'checkpoint_id': '1f071c5b-76ad-61f6-8000-06a51f3c5884'}}, metadata={'source': 'loop', 'step': 0, 'parents': {}, 'thread_id': '1'}, created_at='2025-08-05T06:30:44.821234+00:00', parent_config={'configurable': {'thread_id': '1', 'checkpoint_ns': '', 'checkpoint_id': '1f071c5b-76aa-6686-bfff-452b445c0e6b'}}, tasks=(PregelTask(id='9d576757-7d9d-e3da-a0a7-1aaad100ca9f', name='generate_joke', path=('__pregel_pull', 'generate_joke'), error=None, interrupts=(), state=None, result={'joke': \"Why did the pizza maker go broke?\\n\\nBecause he just couldn't make enough dough! 🍕\"}),), interrupts=())"
      ]
     },
     "execution_count": 15,
     "metadata": {},
     "output_type": "execute_result"
    }
   ],
   "source": [
    "workflow.get_state({'configurable': {'thread_id': '1', 'checkpoint_id': '1f071c5b-76ad-61f6-8000-06a51f3c5884'}})"
   ]
  },
  {
   "cell_type": "code",
   "execution_count": 16,
   "id": "bf8b8f2d",
   "metadata": {},
   "outputs": [
    {
     "data": {
      "text/plain": [
       "{'topic': 'pizza',\n",
       " 'joke': \"Why did the pizza maker go broke?\\n\\nBecause he just couldn't make enough dough! 🍕\",\n",
       " 'explanation': 'This joke plays on a double meaning of the word \"dough.\" \\n\\n1. **Literal Meaning**: In the context of pizza making, \"dough\" refers to the mixture of flour, water, and other ingredients that is used to make the crust of the pizza. A pizza maker needs to make a lot of dough to create pizzas.\\n\\n2. **Figurative Meaning**: \"Dough\" is also a slang term for money. When someone says they \"can\\'t make enough dough,\" it means they aren\\'t earning enough money.\\n\\nSo, the humor comes from the pun on \"dough\"—the pizza maker is struggling both to make pizza dough and to earn enough money, leading to the punchline that he went broke. The combination of these two meanings creates a light-hearted and clever play on words.'}"
      ]
     },
     "execution_count": 16,
     "metadata": {},
     "output_type": "execute_result"
    }
   ],
   "source": [
    "workflow.invoke(None, config={'configurable': {'thread_id': '1', 'checkpoint_id': '1f071c5b-76ad-61f6-8000-06a51f3c5884'}})"
   ]
  },
  {
   "cell_type": "code",
   "execution_count": 17,
   "id": "e880b016",
   "metadata": {},
   "outputs": [
    {
     "data": {
      "text/plain": [
       "[StateSnapshot(values={'topic': 'pizza', 'joke': \"Why did the pizza maker go broke?\\n\\nBecause he just couldn't make enough dough! 🍕\", 'explanation': 'This joke plays on a double meaning of the word \"dough.\" \\n\\n1. **Literal Meaning**: In the context of pizza making, \"dough\" refers to the mixture of flour, water, and other ingredients that is used to make the crust of the pizza. A pizza maker needs to make a lot of dough to create pizzas.\\n\\n2. **Figurative Meaning**: \"Dough\" is also a slang term for money. When someone says they \"can\\'t make enough dough,\" it means they aren\\'t earning enough money.\\n\\nSo, the humor comes from the pun on \"dough\"—the pizza maker is struggling both to make pizza dough and to earn enough money, leading to the punchline that he went broke. The combination of these two meanings creates a light-hearted and clever play on words.'}, next=(), config={'configurable': {'thread_id': '1', 'checkpoint_ns': '', 'checkpoint_id': '1f071c6b-0589-6d0c-8002-b26304b78e30'}}, metadata={'source': 'loop', 'step': 2, 'parents': {}, 'thread_id': '1'}, created_at='2025-08-05T06:37:42.454577+00:00', parent_config={'configurable': {'thread_id': '1', 'checkpoint_ns': '', 'checkpoint_id': '1f071c6a-d3a2-6c12-8001-adc1c9fd6642'}}, tasks=(), interrupts=()),\n",
       " StateSnapshot(values={'topic': 'pizza', 'joke': \"Why did the pizza maker go broke?\\n\\nBecause he just couldn't make enough dough! 🍕\"}, next=('generate_explanation',), config={'configurable': {'thread_id': '1', 'checkpoint_ns': '', 'checkpoint_id': '1f071c6a-d3a2-6c12-8001-adc1c9fd6642'}}, metadata={'source': 'loop', 'step': 1, 'parents': {}, 'thread_id': '1'}, created_at='2025-08-05T06:37:37.221911+00:00', parent_config={'configurable': {'thread_id': '1', 'checkpoint_ns': '', 'checkpoint_id': '1f071c5b-76ad-61f6-8000-06a51f3c5884'}}, tasks=(PregelTask(id='9626be34-4996-841a-73b0-93e9a0897210', name='generate_explanation', path=('__pregel_pull', 'generate_explanation'), error=None, interrupts=(), state=None, result={'explanation': 'This joke plays on a double meaning of the word \"dough.\" \\n\\n1. **Literal Meaning**: In the context of pizza making, \"dough\" refers to the mixture of flour, water, and other ingredients that is used to make the crust of the pizza. A pizza maker needs to make a lot of dough to create pizzas.\\n\\n2. **Figurative Meaning**: \"Dough\" is also a slang term for money. When someone says they \"can\\'t make enough dough,\" it means they aren\\'t earning enough money.\\n\\nSo, the humor comes from the pun on \"dough\"—the pizza maker is struggling both to make pizza dough and to earn enough money, leading to the punchline that he went broke. The combination of these two meanings creates a light-hearted and clever play on words.'}),), interrupts=()),\n",
       " StateSnapshot(values={'topic': 'pizza', 'joke': \"Why did the pizza maker go broke?\\n\\nBecause he just couldn't make enough dough! 🍕\", 'explanation': 'This joke plays on a double meaning of the word \"dough.\" \\n\\n1. **Literal Meaning**: In the context of pizza making, \"dough\" refers to the mixture of flour, water, and other ingredients that is used to make the crust of the pizza. A pizza maker needs to make a lot of dough to create pizzas.\\n\\n2. **Figurative Meaning**: \"Dough\" is also a slang term for money. When someone says they \"can\\'t make enough dough,\" it means they aren\\'t earning enough money.\\n\\nSo, the humor comes from the pun on \"dough\"—the pizza maker is struggling both to produce enough pizza dough and to earn enough money, leading to the punchline that he went broke. The combination of these two meanings creates a light-hearted and clever play on words.'}, next=(), config={'configurable': {'thread_id': '1', 'checkpoint_ns': '', 'checkpoint_id': '1f071c5b-ae82-686a-8002-d87be81576fe'}}, metadata={'source': 'loop', 'step': 2, 'parents': {}, 'thread_id': '1'}, created_at='2025-08-05T06:30:50.675796+00:00', parent_config={'configurable': {'thread_id': '1', 'checkpoint_ns': '', 'checkpoint_id': '1f071c5b-8a40-677c-8001-0addffac502c'}}, tasks=(), interrupts=()),\n",
       " StateSnapshot(values={'topic': 'pizza', 'joke': \"Why did the pizza maker go broke?\\n\\nBecause he just couldn't make enough dough! 🍕\"}, next=('generate_explanation',), config={'configurable': {'thread_id': '1', 'checkpoint_ns': '', 'checkpoint_id': '1f071c5b-8a40-677c-8001-0addffac502c'}}, metadata={'source': 'loop', 'step': 1, 'parents': {}, 'thread_id': '1'}, created_at='2025-08-05T06:30:46.873880+00:00', parent_config={'configurable': {'thread_id': '1', 'checkpoint_ns': '', 'checkpoint_id': '1f071c5b-76ad-61f6-8000-06a51f3c5884'}}, tasks=(PregelTask(id='a26db1f6-e3fd-2026-cf77-728904a526e6', name='generate_explanation', path=('__pregel_pull', 'generate_explanation'), error=None, interrupts=(), state=None, result={'explanation': 'This joke plays on a double meaning of the word \"dough.\" \\n\\n1. **Literal Meaning**: In the context of pizza making, \"dough\" refers to the mixture of flour, water, and other ingredients that is used to make the crust of the pizza. A pizza maker needs to make a lot of dough to create pizzas.\\n\\n2. **Figurative Meaning**: \"Dough\" is also a slang term for money. When someone says they \"can\\'t make enough dough,\" it means they aren\\'t earning enough money.\\n\\nSo, the humor comes from the pun on \"dough\"—the pizza maker is struggling both to produce enough pizza dough and to earn enough money, leading to the punchline that he went broke. The combination of these two meanings creates a light-hearted and clever play on words.'}),), interrupts=()),\n",
       " StateSnapshot(values={'topic': 'pizza'}, next=('generate_joke',), config={'configurable': {'thread_id': '1', 'checkpoint_ns': '', 'checkpoint_id': '1f071c5b-76ad-61f6-8000-06a51f3c5884'}}, metadata={'source': 'loop', 'step': 0, 'parents': {}, 'thread_id': '1'}, created_at='2025-08-05T06:30:44.821234+00:00', parent_config={'configurable': {'thread_id': '1', 'checkpoint_ns': '', 'checkpoint_id': '1f071c5b-76aa-6686-bfff-452b445c0e6b'}}, tasks=(PregelTask(id='9d576757-7d9d-e3da-a0a7-1aaad100ca9f', name='generate_joke', path=('__pregel_pull', 'generate_joke'), error=None, interrupts=(), state=None, result={'joke': \"Why did the pizza maker go broke?\\n\\nBecause he just couldn't make enough dough! 🍕\"}),), interrupts=()),\n",
       " StateSnapshot(values={}, next=('__start__',), config={'configurable': {'thread_id': '1', 'checkpoint_ns': '', 'checkpoint_id': '1f071c5b-76aa-6686-bfff-452b445c0e6b'}}, metadata={'source': 'input', 'step': -1, 'parents': {}, 'thread_id': '1'}, created_at='2025-08-05T06:30:44.820120+00:00', parent_config=None, tasks=(PregelTask(id='9e37cf91-6a05-6dbb-c640-c79f90ebac48', name='__start__', path=('__pregel_pull', '__start__'), error=None, interrupts=(), state=None, result={'topic': 'pizza'}),), interrupts=())]"
      ]
     },
     "execution_count": 17,
     "metadata": {},
     "output_type": "execute_result"
    }
   ],
   "source": [
    "list(workflow.get_state_history(config1))"
   ]
  },
  {
   "cell_type": "markdown",
   "id": "b38ee6db",
   "metadata": {},
   "source": [
    "## Updating State"
   ]
  },
  {
   "cell_type": "code",
   "execution_count": 18,
   "id": "9c6c0e55",
   "metadata": {},
   "outputs": [
    {
     "data": {
      "text/plain": [
       "{'configurable': {'thread_id': '1',\n",
       "  'checkpoint_ns': '',\n",
       "  'checkpoint_id': '1f071c79-d351-6150-8001-30f9db2caf6c'}}"
      ]
     },
     "execution_count": 18,
     "metadata": {},
     "output_type": "execute_result"
    }
   ],
   "source": [
    "workflow.update_state({'configurable': {'thread_id': '1', 'checkpoint_id': '1f071c5b-76ad-61f6-8000-06a51f3c5884', 'checkpoint_ns': '' }}, {'topic': 'samosa'})"
   ]
  },
  {
   "cell_type": "code",
   "execution_count": 19,
   "id": "0f59ac3a",
   "metadata": {},
   "outputs": [
    {
     "data": {
      "text/plain": [
       "[StateSnapshot(values={'topic': 'samosa'}, next=('generate_joke',), config={'configurable': {'thread_id': '1', 'checkpoint_ns': '', 'checkpoint_id': '1f071c79-d351-6150-8001-30f9db2caf6c'}}, metadata={'source': 'update', 'step': 1, 'parents': {}, 'thread_id': '1'}, created_at='2025-08-05T06:44:19.841664+00:00', parent_config={'configurable': {'thread_id': '1', 'checkpoint_ns': '', 'checkpoint_id': '1f071c5b-76ad-61f6-8000-06a51f3c5884'}}, tasks=(PregelTask(id='742e5d85-c044-0bec-a848-16bb6b2cce0d', name='generate_joke', path=('__pregel_pull', 'generate_joke'), error=None, interrupts=(), state=None, result=None),), interrupts=()),\n",
       " StateSnapshot(values={'topic': 'pizza', 'joke': \"Why did the pizza maker go broke?\\n\\nBecause he just couldn't make enough dough! 🍕\", 'explanation': 'This joke plays on a double meaning of the word \"dough.\" \\n\\n1. **Literal Meaning**: In the context of pizza making, \"dough\" refers to the mixture of flour, water, and other ingredients that is used to make the crust of the pizza. A pizza maker needs to make a lot of dough to create pizzas.\\n\\n2. **Figurative Meaning**: \"Dough\" is also a slang term for money. When someone says they \"can\\'t make enough dough,\" it means they aren\\'t earning enough money.\\n\\nSo, the humor comes from the pun on \"dough\"—the pizza maker is struggling both to make pizza dough and to earn enough money, leading to the punchline that he went broke. The combination of these two meanings creates a light-hearted and clever play on words.'}, next=(), config={'configurable': {'thread_id': '1', 'checkpoint_ns': '', 'checkpoint_id': '1f071c6b-0589-6d0c-8002-b26304b78e30'}}, metadata={'source': 'loop', 'step': 2, 'parents': {}, 'thread_id': '1'}, created_at='2025-08-05T06:37:42.454577+00:00', parent_config={'configurable': {'thread_id': '1', 'checkpoint_ns': '', 'checkpoint_id': '1f071c6a-d3a2-6c12-8001-adc1c9fd6642'}}, tasks=(), interrupts=()),\n",
       " StateSnapshot(values={'topic': 'pizza', 'joke': \"Why did the pizza maker go broke?\\n\\nBecause he just couldn't make enough dough! 🍕\"}, next=('generate_explanation',), config={'configurable': {'thread_id': '1', 'checkpoint_ns': '', 'checkpoint_id': '1f071c6a-d3a2-6c12-8001-adc1c9fd6642'}}, metadata={'source': 'loop', 'step': 1, 'parents': {}, 'thread_id': '1'}, created_at='2025-08-05T06:37:37.221911+00:00', parent_config={'configurable': {'thread_id': '1', 'checkpoint_ns': '', 'checkpoint_id': '1f071c5b-76ad-61f6-8000-06a51f3c5884'}}, tasks=(PregelTask(id='9626be34-4996-841a-73b0-93e9a0897210', name='generate_explanation', path=('__pregel_pull', 'generate_explanation'), error=None, interrupts=(), state=None, result={'explanation': 'This joke plays on a double meaning of the word \"dough.\" \\n\\n1. **Literal Meaning**: In the context of pizza making, \"dough\" refers to the mixture of flour, water, and other ingredients that is used to make the crust of the pizza. A pizza maker needs to make a lot of dough to create pizzas.\\n\\n2. **Figurative Meaning**: \"Dough\" is also a slang term for money. When someone says they \"can\\'t make enough dough,\" it means they aren\\'t earning enough money.\\n\\nSo, the humor comes from the pun on \"dough\"—the pizza maker is struggling both to make pizza dough and to earn enough money, leading to the punchline that he went broke. The combination of these two meanings creates a light-hearted and clever play on words.'}),), interrupts=()),\n",
       " StateSnapshot(values={'topic': 'pizza', 'joke': \"Why did the pizza maker go broke?\\n\\nBecause he just couldn't make enough dough! 🍕\", 'explanation': 'This joke plays on a double meaning of the word \"dough.\" \\n\\n1. **Literal Meaning**: In the context of pizza making, \"dough\" refers to the mixture of flour, water, and other ingredients that is used to make the crust of the pizza. A pizza maker needs to make a lot of dough to create pizzas.\\n\\n2. **Figurative Meaning**: \"Dough\" is also a slang term for money. When someone says they \"can\\'t make enough dough,\" it means they aren\\'t earning enough money.\\n\\nSo, the humor comes from the pun on \"dough\"—the pizza maker is struggling both to produce enough pizza dough and to earn enough money, leading to the punchline that he went broke. The combination of these two meanings creates a light-hearted and clever play on words.'}, next=(), config={'configurable': {'thread_id': '1', 'checkpoint_ns': '', 'checkpoint_id': '1f071c5b-ae82-686a-8002-d87be81576fe'}}, metadata={'source': 'loop', 'step': 2, 'parents': {}, 'thread_id': '1'}, created_at='2025-08-05T06:30:50.675796+00:00', parent_config={'configurable': {'thread_id': '1', 'checkpoint_ns': '', 'checkpoint_id': '1f071c5b-8a40-677c-8001-0addffac502c'}}, tasks=(), interrupts=()),\n",
       " StateSnapshot(values={'topic': 'pizza', 'joke': \"Why did the pizza maker go broke?\\n\\nBecause he just couldn't make enough dough! 🍕\"}, next=('generate_explanation',), config={'configurable': {'thread_id': '1', 'checkpoint_ns': '', 'checkpoint_id': '1f071c5b-8a40-677c-8001-0addffac502c'}}, metadata={'source': 'loop', 'step': 1, 'parents': {}, 'thread_id': '1'}, created_at='2025-08-05T06:30:46.873880+00:00', parent_config={'configurable': {'thread_id': '1', 'checkpoint_ns': '', 'checkpoint_id': '1f071c5b-76ad-61f6-8000-06a51f3c5884'}}, tasks=(PregelTask(id='a26db1f6-e3fd-2026-cf77-728904a526e6', name='generate_explanation', path=('__pregel_pull', 'generate_explanation'), error=None, interrupts=(), state=None, result={'explanation': 'This joke plays on a double meaning of the word \"dough.\" \\n\\n1. **Literal Meaning**: In the context of pizza making, \"dough\" refers to the mixture of flour, water, and other ingredients that is used to make the crust of the pizza. A pizza maker needs to make a lot of dough to create pizzas.\\n\\n2. **Figurative Meaning**: \"Dough\" is also a slang term for money. When someone says they \"can\\'t make enough dough,\" it means they aren\\'t earning enough money.\\n\\nSo, the humor comes from the pun on \"dough\"—the pizza maker is struggling both to produce enough pizza dough and to earn enough money, leading to the punchline that he went broke. The combination of these two meanings creates a light-hearted and clever play on words.'}),), interrupts=()),\n",
       " StateSnapshot(values={'topic': 'pizza'}, next=('generate_joke',), config={'configurable': {'thread_id': '1', 'checkpoint_ns': '', 'checkpoint_id': '1f071c5b-76ad-61f6-8000-06a51f3c5884'}}, metadata={'source': 'loop', 'step': 0, 'parents': {}, 'thread_id': '1'}, created_at='2025-08-05T06:30:44.821234+00:00', parent_config={'configurable': {'thread_id': '1', 'checkpoint_ns': '', 'checkpoint_id': '1f071c5b-76aa-6686-bfff-452b445c0e6b'}}, tasks=(PregelTask(id='9d576757-7d9d-e3da-a0a7-1aaad100ca9f', name='generate_joke', path=('__pregel_pull', 'generate_joke'), error=None, interrupts=(), state=None, result={'joke': \"Why did the pizza maker go broke?\\n\\nBecause he just couldn't make enough dough! 🍕\"}),), interrupts=()),\n",
       " StateSnapshot(values={}, next=('__start__',), config={'configurable': {'thread_id': '1', 'checkpoint_ns': '', 'checkpoint_id': '1f071c5b-76aa-6686-bfff-452b445c0e6b'}}, metadata={'source': 'input', 'step': -1, 'parents': {}, 'thread_id': '1'}, created_at='2025-08-05T06:30:44.820120+00:00', parent_config=None, tasks=(PregelTask(id='9e37cf91-6a05-6dbb-c640-c79f90ebac48', name='__start__', path=('__pregel_pull', '__start__'), error=None, interrupts=(), state=None, result={'topic': 'pizza'}),), interrupts=())]"
      ]
     },
     "execution_count": 19,
     "metadata": {},
     "output_type": "execute_result"
    }
   ],
   "source": [
    "list(workflow.get_state_history(config1))"
   ]
  },
  {
   "cell_type": "code",
   "execution_count": 22,
   "id": "2e95f965",
   "metadata": {},
   "outputs": [
    {
     "data": {
      "text/plain": [
       "{'topic': 'samosa',\n",
       " 'joke': 'Why did the samosa go to school?\\n\\nBecause it wanted to be a little more \"filling\"!',\n",
       " 'explanation': 'This joke plays on a pun involving the word \"filling.\" \\n\\n1. **Samosa**: A samosa is a popular snack, typically a fried or baked pastry filled with a mixture of spiced potatoes, peas, or meat. The filling is the edible part inside the pastry.\\n\\n2. **School**: The joke suggests that the samosa goes to school to learn and gain knowledge, which is a common reason for attending school.\\n\\n3. **Pun on \"filling\"**: The humor comes from the double meaning of \"filling.\" In one sense, it refers to the physical filling inside the samosa. In another sense, \"filling\" can mean being more knowledgeable or well-rounded, as in \"being more fulfilling\" in terms of education or personal growth.\\n\\nSo, the samosa wants to go to school to become more \"filling\" in both senses: to improve its literal filling and to gain knowledge, making it a clever play on words!'}"
      ]
     },
     "execution_count": 22,
     "metadata": {},
     "output_type": "execute_result"
    }
   ],
   "source": [
    "workflow.invoke(None, config={'configurable': {'thread_id': '1', 'checkpoint_id': '1f071c79-d351-6150-8001-30f9db2caf6c'}})"
   ]
  },
  {
   "cell_type": "code",
   "execution_count": 23,
   "id": "1d1b524c",
   "metadata": {},
   "outputs": [
    {
     "data": {
      "text/plain": [
       "[StateSnapshot(values={'topic': 'samosa', 'joke': 'Why did the samosa go to school?\\n\\nBecause it wanted to be a little more \"filling\"!', 'explanation': 'This joke plays on a pun involving the word \"filling.\" \\n\\n1. **Samosa**: A samosa is a popular snack, typically a fried or baked pastry filled with a mixture of spiced potatoes, peas, or meat. The filling is the edible part inside the pastry.\\n\\n2. **School**: The joke suggests that the samosa goes to school to learn and gain knowledge, which is a common reason for attending school.\\n\\n3. **Pun on \"filling\"**: The humor comes from the double meaning of \"filling.\" In one sense, it refers to the physical filling inside the samosa. In another sense, \"filling\" can mean being more knowledgeable or well-rounded, as in \"being more fulfilling\" in terms of education or personal growth.\\n\\nSo, the samosa wants to go to school to become more \"filling\" in both senses: to improve its literal filling and to gain knowledge, making it a clever play on words!'}, next=(), config={'configurable': {'thread_id': '1', 'checkpoint_ns': '', 'checkpoint_id': '1f071c82-c052-6da2-8003-a609372ceafd'}}, metadata={'source': 'loop', 'step': 3, 'parents': {}, 'thread_id': '1'}, created_at='2025-08-05T06:48:19.441970+00:00', parent_config={'configurable': {'thread_id': '1', 'checkpoint_ns': '', 'checkpoint_id': '1f071c82-9844-6cb6-8002-ec6792f78270'}}, tasks=(), interrupts=()),\n",
       " StateSnapshot(values={'topic': 'samosa', 'joke': 'Why did the samosa go to school?\\n\\nBecause it wanted to be a little more \"filling\"!'}, next=('generate_explanation',), config={'configurable': {'thread_id': '1', 'checkpoint_ns': '', 'checkpoint_id': '1f071c82-9844-6cb6-8002-ec6792f78270'}}, metadata={'source': 'loop', 'step': 2, 'parents': {}, 'thread_id': '1'}, created_at='2025-08-05T06:48:15.241916+00:00', parent_config={'configurable': {'thread_id': '1', 'checkpoint_ns': '', 'checkpoint_id': '1f071c79-d351-6150-8001-30f9db2caf6c'}}, tasks=(PregelTask(id='30f50559-f012-ad63-44b6-112cf21f5582', name='generate_explanation', path=('__pregel_pull', 'generate_explanation'), error=None, interrupts=(), state=None, result={'explanation': 'This joke plays on a pun involving the word \"filling.\" \\n\\n1. **Samosa**: A samosa is a popular snack, typically a fried or baked pastry filled with a mixture of spiced potatoes, peas, or meat. The filling is the edible part inside the pastry.\\n\\n2. **School**: The joke suggests that the samosa goes to school to learn and gain knowledge, which is a common reason for attending school.\\n\\n3. **Pun on \"filling\"**: The humor comes from the double meaning of \"filling.\" In one sense, it refers to the physical filling inside the samosa. In another sense, \"filling\" can mean being more knowledgeable or well-rounded, as in \"being more fulfilling\" in terms of education or personal growth.\\n\\nSo, the samosa wants to go to school to become more \"filling\" in both senses: to improve its literal filling and to gain knowledge, making it a clever play on words!'}),), interrupts=()),\n",
       " StateSnapshot(values={'topic': 'pizza', 'joke': \"Why did the pizza maker go broke?\\n\\nBecause he just couldn't make enough dough! 🍕\", 'explanation': 'This joke is a play on words that uses a double meaning of the word \"dough.\" \\n\\n1. **Literal Meaning**: In the context of pizza making, \"dough\" refers to the mixture of flour, water, and other ingredients that is used to make the crust of the pizza. A pizza maker needs to make a lot of dough to create pizzas.\\n\\n2. **Figurative Meaning**: \"Dough\" is also a slang term for money. When someone says they \"can\\'t make enough dough,\" it means they aren\\'t earning enough money.\\n\\nSo, the humor comes from the pun: the pizza maker went broke because he couldn\\'t make enough \"dough\" in both senses—he wasn\\'t producing enough pizza dough and, as a result, wasn\\'t making enough money. The joke combines these two meanings in a clever way, leading to a lighthearted punchline.'}, next=(), config={'configurable': {'thread_id': '1', 'checkpoint_ns': '', 'checkpoint_id': '1f071c7d-d77c-6d48-8002-ea0eed6bf8b8'}}, metadata={'source': 'loop', 'step': 2, 'parents': {}, 'thread_id': '1'}, created_at='2025-08-05T06:46:07.653163+00:00', parent_config={'configurable': {'thread_id': '1', 'checkpoint_ns': '', 'checkpoint_id': '1f071c7d-ac87-658e-8001-f16c930c131b'}}, tasks=(), interrupts=()),\n",
       " StateSnapshot(values={'topic': 'pizza', 'joke': \"Why did the pizza maker go broke?\\n\\nBecause he just couldn't make enough dough! 🍕\"}, next=('generate_explanation',), config={'configurable': {'thread_id': '1', 'checkpoint_ns': '', 'checkpoint_id': '1f071c7d-ac87-658e-8001-f16c930c131b'}}, metadata={'source': 'loop', 'step': 1, 'parents': {}, 'thread_id': '1'}, created_at='2025-08-05T06:46:03.148605+00:00', parent_config={'configurable': {'thread_id': '1', 'checkpoint_ns': '', 'checkpoint_id': '1f071c5b-76ad-61f6-8000-06a51f3c5884'}}, tasks=(PregelTask(id='fb46060c-e43d-9eac-7e57-9c393e029705', name='generate_explanation', path=('__pregel_pull', 'generate_explanation'), error=None, interrupts=(), state=None, result={'explanation': 'This joke is a play on words that uses a double meaning of the word \"dough.\" \\n\\n1. **Literal Meaning**: In the context of pizza making, \"dough\" refers to the mixture of flour, water, and other ingredients that is used to make the crust of the pizza. A pizza maker needs to make a lot of dough to create pizzas.\\n\\n2. **Figurative Meaning**: \"Dough\" is also a slang term for money. When someone says they \"can\\'t make enough dough,\" it means they aren\\'t earning enough money.\\n\\nSo, the humor comes from the pun: the pizza maker went broke because he couldn\\'t make enough \"dough\" in both senses—he wasn\\'t producing enough pizza dough and, as a result, wasn\\'t making enough money. The joke combines these two meanings in a clever way, leading to a lighthearted punchline.'}),), interrupts=()),\n",
       " StateSnapshot(values={'topic': 'samosa'}, next=('generate_joke',), config={'configurable': {'thread_id': '1', 'checkpoint_ns': '', 'checkpoint_id': '1f071c79-d351-6150-8001-30f9db2caf6c'}}, metadata={'source': 'update', 'step': 1, 'parents': {}, 'thread_id': '1'}, created_at='2025-08-05T06:44:19.841664+00:00', parent_config={'configurable': {'thread_id': '1', 'checkpoint_ns': '', 'checkpoint_id': '1f071c5b-76ad-61f6-8000-06a51f3c5884'}}, tasks=(PregelTask(id='742e5d85-c044-0bec-a848-16bb6b2cce0d', name='generate_joke', path=('__pregel_pull', 'generate_joke'), error=None, interrupts=(), state=None, result={'joke': 'Why did the samosa go to school?\\n\\nBecause it wanted to be a little more \"filling\"!'}),), interrupts=()),\n",
       " StateSnapshot(values={'topic': 'pizza', 'joke': \"Why did the pizza maker go broke?\\n\\nBecause he just couldn't make enough dough! 🍕\", 'explanation': 'This joke plays on a double meaning of the word \"dough.\" \\n\\n1. **Literal Meaning**: In the context of pizza making, \"dough\" refers to the mixture of flour, water, and other ingredients that is used to make the crust of the pizza. A pizza maker needs to make a lot of dough to create pizzas.\\n\\n2. **Figurative Meaning**: \"Dough\" is also a slang term for money. When someone says they \"can\\'t make enough dough,\" it means they aren\\'t earning enough money.\\n\\nSo, the humor comes from the pun on \"dough\"—the pizza maker is struggling both to make pizza dough and to earn enough money, leading to the punchline that he went broke. The combination of these two meanings creates a light-hearted and clever play on words.'}, next=(), config={'configurable': {'thread_id': '1', 'checkpoint_ns': '', 'checkpoint_id': '1f071c6b-0589-6d0c-8002-b26304b78e30'}}, metadata={'source': 'loop', 'step': 2, 'parents': {}, 'thread_id': '1'}, created_at='2025-08-05T06:37:42.454577+00:00', parent_config={'configurable': {'thread_id': '1', 'checkpoint_ns': '', 'checkpoint_id': '1f071c6a-d3a2-6c12-8001-adc1c9fd6642'}}, tasks=(), interrupts=()),\n",
       " StateSnapshot(values={'topic': 'pizza', 'joke': \"Why did the pizza maker go broke?\\n\\nBecause he just couldn't make enough dough! 🍕\"}, next=('generate_explanation',), config={'configurable': {'thread_id': '1', 'checkpoint_ns': '', 'checkpoint_id': '1f071c6a-d3a2-6c12-8001-adc1c9fd6642'}}, metadata={'source': 'loop', 'step': 1, 'parents': {}, 'thread_id': '1'}, created_at='2025-08-05T06:37:37.221911+00:00', parent_config={'configurable': {'thread_id': '1', 'checkpoint_ns': '', 'checkpoint_id': '1f071c5b-76ad-61f6-8000-06a51f3c5884'}}, tasks=(PregelTask(id='9626be34-4996-841a-73b0-93e9a0897210', name='generate_explanation', path=('__pregel_pull', 'generate_explanation'), error=None, interrupts=(), state=None, result={'explanation': 'This joke plays on a double meaning of the word \"dough.\" \\n\\n1. **Literal Meaning**: In the context of pizza making, \"dough\" refers to the mixture of flour, water, and other ingredients that is used to make the crust of the pizza. A pizza maker needs to make a lot of dough to create pizzas.\\n\\n2. **Figurative Meaning**: \"Dough\" is also a slang term for money. When someone says they \"can\\'t make enough dough,\" it means they aren\\'t earning enough money.\\n\\nSo, the humor comes from the pun on \"dough\"—the pizza maker is struggling both to make pizza dough and to earn enough money, leading to the punchline that he went broke. The combination of these two meanings creates a light-hearted and clever play on words.'}),), interrupts=()),\n",
       " StateSnapshot(values={'topic': 'pizza', 'joke': \"Why did the pizza maker go broke?\\n\\nBecause he just couldn't make enough dough! 🍕\", 'explanation': 'This joke plays on a double meaning of the word \"dough.\" \\n\\n1. **Literal Meaning**: In the context of pizza making, \"dough\" refers to the mixture of flour, water, and other ingredients that is used to make the crust of the pizza. A pizza maker needs to make a lot of dough to create pizzas.\\n\\n2. **Figurative Meaning**: \"Dough\" is also a slang term for money. When someone says they \"can\\'t make enough dough,\" it means they aren\\'t earning enough money.\\n\\nSo, the humor comes from the pun on \"dough\"—the pizza maker is struggling both to produce enough pizza dough and to earn enough money, leading to the punchline that he went broke. The combination of these two meanings creates a light-hearted and clever play on words.'}, next=(), config={'configurable': {'thread_id': '1', 'checkpoint_ns': '', 'checkpoint_id': '1f071c5b-ae82-686a-8002-d87be81576fe'}}, metadata={'source': 'loop', 'step': 2, 'parents': {}, 'thread_id': '1'}, created_at='2025-08-05T06:30:50.675796+00:00', parent_config={'configurable': {'thread_id': '1', 'checkpoint_ns': '', 'checkpoint_id': '1f071c5b-8a40-677c-8001-0addffac502c'}}, tasks=(), interrupts=()),\n",
       " StateSnapshot(values={'topic': 'pizza', 'joke': \"Why did the pizza maker go broke?\\n\\nBecause he just couldn't make enough dough! 🍕\"}, next=('generate_explanation',), config={'configurable': {'thread_id': '1', 'checkpoint_ns': '', 'checkpoint_id': '1f071c5b-8a40-677c-8001-0addffac502c'}}, metadata={'source': 'loop', 'step': 1, 'parents': {}, 'thread_id': '1'}, created_at='2025-08-05T06:30:46.873880+00:00', parent_config={'configurable': {'thread_id': '1', 'checkpoint_ns': '', 'checkpoint_id': '1f071c5b-76ad-61f6-8000-06a51f3c5884'}}, tasks=(PregelTask(id='a26db1f6-e3fd-2026-cf77-728904a526e6', name='generate_explanation', path=('__pregel_pull', 'generate_explanation'), error=None, interrupts=(), state=None, result={'explanation': 'This joke plays on a double meaning of the word \"dough.\" \\n\\n1. **Literal Meaning**: In the context of pizza making, \"dough\" refers to the mixture of flour, water, and other ingredients that is used to make the crust of the pizza. A pizza maker needs to make a lot of dough to create pizzas.\\n\\n2. **Figurative Meaning**: \"Dough\" is also a slang term for money. When someone says they \"can\\'t make enough dough,\" it means they aren\\'t earning enough money.\\n\\nSo, the humor comes from the pun on \"dough\"—the pizza maker is struggling both to produce enough pizza dough and to earn enough money, leading to the punchline that he went broke. The combination of these two meanings creates a light-hearted and clever play on words.'}),), interrupts=()),\n",
       " StateSnapshot(values={'topic': 'pizza'}, next=('generate_joke',), config={'configurable': {'thread_id': '1', 'checkpoint_ns': '', 'checkpoint_id': '1f071c5b-76ad-61f6-8000-06a51f3c5884'}}, metadata={'source': 'loop', 'step': 0, 'parents': {}, 'thread_id': '1'}, created_at='2025-08-05T06:30:44.821234+00:00', parent_config={'configurable': {'thread_id': '1', 'checkpoint_ns': '', 'checkpoint_id': '1f071c5b-76aa-6686-bfff-452b445c0e6b'}}, tasks=(PregelTask(id='9d576757-7d9d-e3da-a0a7-1aaad100ca9f', name='generate_joke', path=('__pregel_pull', 'generate_joke'), error=None, interrupts=(), state=None, result={'joke': \"Why did the pizza maker go broke?\\n\\nBecause he just couldn't make enough dough! 🍕\"}),), interrupts=()),\n",
       " StateSnapshot(values={}, next=('__start__',), config={'configurable': {'thread_id': '1', 'checkpoint_ns': '', 'checkpoint_id': '1f071c5b-76aa-6686-bfff-452b445c0e6b'}}, metadata={'source': 'input', 'step': -1, 'parents': {}, 'thread_id': '1'}, created_at='2025-08-05T06:30:44.820120+00:00', parent_config=None, tasks=(PregelTask(id='9e37cf91-6a05-6dbb-c640-c79f90ebac48', name='__start__', path=('__pregel_pull', '__start__'), error=None, interrupts=(), state=None, result={'topic': 'pizza'}),), interrupts=())]"
      ]
     },
     "execution_count": 23,
     "metadata": {},
     "output_type": "execute_result"
    }
   ],
   "source": [
    "list(workflow.get_state_history(config1))"
   ]
  },
  {
   "cell_type": "code",
   "execution_count": null,
   "id": "2a774e7f",
   "metadata": {},
   "outputs": [],
   "source": []
  }
 ],
 "metadata": {
  "kernelspec": {
   "display_name": "langgraph-tutorial",
   "language": "python",
   "name": "python3"
  },
  "language_info": {
   "codemirror_mode": {
    "name": "ipython",
    "version": 3
   },
   "file_extension": ".py",
   "mimetype": "text/x-python",
   "name": "python",
   "nbconvert_exporter": "python",
   "pygments_lexer": "ipython3",
   "version": "3.12.10"
  }
 },
 "nbformat": 4,
 "nbformat_minor": 5
}
