{
 "cells": [
  {
   "cell_type": "markdown",
   "id": "6f3ade2b",
   "metadata": {},
   "source": [
    "## Import Libraries"
   ]
  },
  {
   "cell_type": "code",
   "execution_count": 1,
   "id": "096ee7dd",
   "metadata": {},
   "outputs": [],
   "source": [
    "from langgraph.graph import StateGraph, START, END\n",
    "from langchain_openai import ChatOpenAI\n",
    "from typing import TypedDict\n",
    "\n",
    "from dotenv import load_dotenv\n"
   ]
  },
  {
   "cell_type": "code",
   "execution_count": 2,
   "id": "4e27d49c",
   "metadata": {},
   "outputs": [
    {
     "data": {
      "text/plain": [
       "True"
      ]
     },
     "execution_count": 2,
     "metadata": {},
     "output_type": "execute_result"
    }
   ],
   "source": [
    "load_dotenv()"
   ]
  },
  {
   "cell_type": "markdown",
   "id": "5a87f28f",
   "metadata": {},
   "source": [
    "## Initialize OpenAI Chat Model"
   ]
  },
  {
   "cell_type": "code",
   "execution_count": 3,
   "id": "9f3c321c",
   "metadata": {},
   "outputs": [],
   "source": [
    "model = ChatOpenAI(\n",
    "    model=\"gpt-4o-mini\",\n",
    "    temperature=0.0\n",
    ")"
   ]
  },
  {
   "cell_type": "code",
   "execution_count": null,
   "id": "081b1db1",
   "metadata": {},
   "outputs": [],
   "source": [
    "# Create a state\n",
    "class LLMState(TypedDict):\n",
    "    \n",
    "    question: str\n",
    "    answer: str\n",
    "    "
   ]
  },
  {
   "cell_type": "code",
   "execution_count": 5,
   "id": "1663772d",
   "metadata": {},
   "outputs": [],
   "source": [
    "# create the function that will be used in the graph\n",
    "def llm_qa(state: LLMState) -> LLMState:\n",
    "    \n",
    "    # extract the question from the state\n",
    "    question = state['question']\n",
    "    \n",
    "    # from a prompt\n",
    "    prompt = f\"Answer the following question: {question}\"\n",
    "    \n",
    "    # ask the question to the LLM\n",
    "    answer = model.invoke(prompt).content\n",
    "    \n",
    "    # update the state with the answer\n",
    "    state['answer'] = answer\n",
    "    \n",
    "    return state"
   ]
  },
  {
   "cell_type": "code",
   "execution_count": 7,
   "id": "f8eb3082",
   "metadata": {},
   "outputs": [],
   "source": [
    "# Create a graph object\n",
    "graph = StateGraph(LLMState)\n",
    "\n",
    "# Add nodes to the graph\n",
    "graph.add_node('llm_qa', llm_qa)\n",
    "\n",
    "# Add edges to the graph\n",
    "graph.add_edge(START, 'llm_qa')\n",
    "graph.add_edge('llm_qa', END)\n",
    "\n",
    "# Compile the graph\n",
    "workflow = graph.compile()"
   ]
  },
  {
   "cell_type": "code",
   "execution_count": 8,
   "id": "a6d56b2f",
   "metadata": {},
   "outputs": [
    {
     "name": "stdout",
     "output_type": "stream",
     "text": [
      "The average distance from the Earth to the Moon is about 238,855 miles (384,400 kilometers). This distance can vary slightly due to the Moon's elliptical orbit around the Earth.\n"
     ]
    }
   ],
   "source": [
    "# Execute the graph with an initial state\n",
    "initial_state = {'question': 'How far in the moon from the earth?'}\n",
    "\n",
    "final_state = workflow.invoke(initial_state)\n",
    "\n",
    "print(final_state['answer'])"
   ]
  },
  {
   "cell_type": "code",
   "execution_count": null,
   "id": "290de259",
   "metadata": {},
   "outputs": [],
   "source": []
  }
 ],
 "metadata": {
  "kernelspec": {
   "display_name": "langgraph-tutorial",
   "language": "python",
   "name": "python3"
  },
  "language_info": {
   "codemirror_mode": {
    "name": "ipython",
    "version": 3
   },
   "file_extension": ".py",
   "mimetype": "text/x-python",
   "name": "python",
   "nbconvert_exporter": "python",
   "pygments_lexer": "ipython3",
   "version": "3.12.10"
  }
 },
 "nbformat": 4,
 "nbformat_minor": 5
}
